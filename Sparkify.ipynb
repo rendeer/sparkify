{
 "cells": [
  {
   "cell_type": "markdown",
   "metadata": {},
   "source": [
    "# Sparkify Project Workspace\n",
    "This workspace contains a tiny subset (128MB) of the full dataset available (12GB). Feel free to use this workspace to build your project, or to explore a smaller subset with Spark before deploying your cluster on the cloud. Instructions for setting up your Spark cluster is included in the last lesson of the Extracurricular Spark Course content.\n",
    "\n",
    "You can follow the steps below to guide your data analysis and model building portion of this project."
   ]
  },
  {
   "cell_type": "code",
   "execution_count": 1,
   "metadata": {},
   "outputs": [],
   "source": [
    "# import libraries\n",
    "import pyspark\n",
    "from pyspark.sql import SparkSession, Window\n",
    "from pyspark.sql.types import IntegerType, StringType\n",
    "from pyspark.sql.functions import asc, desc, col, udf, lit\n",
    "from pyspark.sql.functions import sum as Fsum, max as Fmax, count as Fcount, avg as Favg, min as Fmin\n",
    "import pandas as pd\n",
    "\n",
    "from pyspark.ml import Pipeline\n",
    "from pyspark.ml.classification import GBTClassifier, LinearSVC, RandomForestClassifier\n",
    "from pyspark.ml.evaluation import MulticlassClassificationEvaluator\n",
    "from pyspark.ml.feature import StandardScaler, VectorAssembler\n",
    "from pyspark.ml.tuning import CrossValidator, ParamGridBuilder\n",
    "\n",
    "import datetime\n",
    "from functools import reduce\n",
    "import numpy as np\n",
    "import matplotlib.pyplot as plt\n",
    "% matplotlib inline"
   ]
  },
  {
   "cell_type": "code",
   "execution_count": 2,
   "metadata": {},
   "outputs": [],
   "source": [
    "# create a Spark session\n",
    "spark = SparkSession.builder.appName(\"Sparkify\").getOrCreate()"
   ]
  },
  {
   "cell_type": "markdown",
   "metadata": {},
   "source": [
    "# Load and Clean Dataset\n",
    "In this workspace, the mini-dataset file is `mini_sparkify_event_data.json`. Load and clean the dataset, checking for invalid or missing data - for example, records without userids or sessionids. "
   ]
  },
  {
   "cell_type": "code",
   "execution_count": 3,
   "metadata": {},
   "outputs": [
    {
     "data": {
      "text/plain": [
       "DataFrame[artist: string, auth: string, firstName: string, gender: string, itemInSession: bigint, lastName: string, length: double, level: string, location: string, method: string, page: string, registration: bigint, sessionId: bigint, song: string, status: bigint, ts: bigint, userAgent: string, userId: string]"
      ]
     },
     "execution_count": 3,
     "metadata": {},
     "output_type": "execute_result"
    }
   ],
   "source": [
    "mini_sparkify_event_data = spark.read.json(\"mini_sparkify_event_data.json\")\n",
    "mini_sparkify_event_data.persist()"
   ]
  },
  {
   "cell_type": "code",
   "execution_count": 4,
   "metadata": {},
   "outputs": [
    {
     "data": {
      "text/plain": [
       "286500"
      ]
     },
     "execution_count": 4,
     "metadata": {},
     "output_type": "execute_result"
    }
   ],
   "source": [
    "# how many items in dataset?\n",
    "mini_sparkify_event_data.count()"
   ]
  },
  {
   "cell_type": "code",
   "execution_count": 5,
   "metadata": {},
   "outputs": [
    {
     "name": "stdout",
     "output_type": "stream",
     "text": [
      "root\n",
      " |-- artist: string (nullable = true)\n",
      " |-- auth: string (nullable = true)\n",
      " |-- firstName: string (nullable = true)\n",
      " |-- gender: string (nullable = true)\n",
      " |-- itemInSession: long (nullable = true)\n",
      " |-- lastName: string (nullable = true)\n",
      " |-- length: double (nullable = true)\n",
      " |-- level: string (nullable = true)\n",
      " |-- location: string (nullable = true)\n",
      " |-- method: string (nullable = true)\n",
      " |-- page: string (nullable = true)\n",
      " |-- registration: long (nullable = true)\n",
      " |-- sessionId: long (nullable = true)\n",
      " |-- song: string (nullable = true)\n",
      " |-- status: long (nullable = true)\n",
      " |-- ts: long (nullable = true)\n",
      " |-- userAgent: string (nullable = true)\n",
      " |-- userId: string (nullable = true)\n",
      "\n"
     ]
    }
   ],
   "source": [
    "# dataset schema?\n",
    "mini_sparkify_event_data.printSchema()"
   ]
  },
  {
   "cell_type": "code",
   "execution_count": 6,
   "metadata": {},
   "outputs": [],
   "source": [
    "#clean records without userids or sessionids\n",
    "data_valid = mini_sparkify_event_data.dropna(how='any', subset=[\"userId\",\"sessionId\"])"
   ]
  },
  {
   "cell_type": "code",
   "execution_count": 7,
   "metadata": {},
   "outputs": [
    {
     "data": {
      "text/plain": [
       "286500"
      ]
     },
     "execution_count": 7,
     "metadata": {},
     "output_type": "execute_result"
    }
   ],
   "source": [
    "# count after clearning\n",
    "data_valid.count()"
   ]
  },
  {
   "cell_type": "code",
   "execution_count": 8,
   "metadata": {},
   "outputs": [
    {
     "name": "stdout",
     "output_type": "stream",
     "text": [
      "+------+\n",
      "|userId|\n",
      "+------+\n",
      "|      |\n",
      "|    10|\n",
      "|   100|\n",
      "|100001|\n",
      "|100002|\n",
      "|100003|\n",
      "|100004|\n",
      "|100005|\n",
      "|100006|\n",
      "|100007|\n",
      "|100008|\n",
      "|100009|\n",
      "|100010|\n",
      "|100011|\n",
      "|100012|\n",
      "|100013|\n",
      "|100014|\n",
      "|100015|\n",
      "|100016|\n",
      "|100017|\n",
      "+------+\n",
      "only showing top 20 rows\n",
      "\n"
     ]
    }
   ],
   "source": [
    "# show 20 rows of userId\n",
    "data_valid.select(\"userId\").dropDuplicates().sort(\"userId\").show()"
   ]
  },
  {
   "cell_type": "markdown",
   "metadata": {},
   "source": [
    "empty userId must be dropped also."
   ]
  },
  {
   "cell_type": "code",
   "execution_count": 9,
   "metadata": {},
   "outputs": [],
   "source": [
    "# clean empty string\n",
    "data_valid = data_valid.filter(data_valid[\"userId\"] != \"\")"
   ]
  },
  {
   "cell_type": "code",
   "execution_count": 10,
   "metadata": {},
   "outputs": [
    {
     "data": {
      "text/plain": [
       "278154"
      ]
     },
     "execution_count": 10,
     "metadata": {},
     "output_type": "execute_result"
    }
   ],
   "source": [
    "# count of rows after cleaning\n",
    "data_valid.count()"
   ]
  },
  {
   "cell_type": "code",
   "execution_count": 11,
   "metadata": {
    "scrolled": false
   },
   "outputs": [
    {
     "data": {
      "text/plain": [
       "Row(artist='Martha Tilston', auth='Logged In', firstName='Colin', gender='M', itemInSession=50, lastName='Freeman', length=277.89016, level='paid', location='Bakersfield, CA', method='PUT', page='NextSong', registration=1538173362000, sessionId=29, song='Rockpools', status=200, ts=1538352117000, userAgent='Mozilla/5.0 (Windows NT 6.1; WOW64; rv:31.0) Gecko/20100101 Firefox/31.0', userId='30')"
      ]
     },
     "execution_count": 11,
     "metadata": {},
     "output_type": "execute_result"
    }
   ],
   "source": [
    "data_valid.head()"
   ]
  },
  {
   "cell_type": "code",
   "execution_count": 12,
   "metadata": {},
   "outputs": [
    {
     "name": "stdout",
     "output_type": "stream",
     "text": [
      "+------+----------+-------------+-----+--------------------+---------+\n",
      "|userId|      page|           ts|level|                song|sessionId|\n",
      "+------+----------+-------------+-----+--------------------+---------+\n",
      "|    10|  NextSong|1538965220000| paid|       Ses Monuments|        9|\n",
      "|    10|  NextSong|1538965485000| paid|         Morning Sky|        9|\n",
      "|    10|  NextSong|1538965685000| paid|Du Hast'n Freund ...|        9|\n",
      "|    10|  NextSong|1538965893000| paid|             Playera|        9|\n",
      "|    10|  NextSong|1538966419000| paid|     Burnin' For You|        9|\n",
      "|    10|  NextSong|1538966691000| paid|      Sky Is Falling|        9|\n",
      "|    10|  NextSong|1538966898000| paid|      Skinhead Stomp|        9|\n",
      "|    10| Thumbs Up|1538966899000| paid|                null|        9|\n",
      "|    10|  NextSong|1538967004000| paid|      You're The One|        9|\n",
      "|    10|  NextSong|1538967243000| paid|        Strange Days|        9|\n",
      "|    10|  NextSong|1538967507000| paid|    Addicted To Love|        9|\n",
      "|    10|Add Friend|1538967508000| paid|                null|        9|\n",
      "|    10|Add Friend|1538967509000| paid|                null|        9|\n",
      "|    10|  NextSong|1538967870000| paid|         Desert Sand|        9|\n",
      "|    10|  NextSong|1538968110000| paid|Amnesia (Album Ve...|        9|\n",
      "|    10| Thumbs Up|1538968111000| paid|                null|        9|\n",
      "|    10|  NextSong|1538968316000| paid|       Fun And Games|        9|\n",
      "|    10|  NextSong|1538968748000| paid|            La Pared|        9|\n",
      "|    10|  NextSong|1538968907000| paid|The Rhythm Method...|        9|\n",
      "|    10|  NextSong|1538969140000| paid|                Rest|        9|\n",
      "+------+----------+-------------+-----+--------------------+---------+\n",
      "only showing top 20 rows\n",
      "\n"
     ]
    }
   ],
   "source": [
    "# see history of user 10\n",
    "data_valid.select([\"userId\", \"page\", \"ts\", \"level\", \"song\", \"sessionId\"]).where(data_valid.userId == \"10\").show()"
   ]
  },
  {
   "cell_type": "code",
   "execution_count": 13,
   "metadata": {},
   "outputs": [],
   "source": [
    "# calculating statistics by hour\n",
    "get_hour = udf(lambda x: datetime.datetime.fromtimestamp(x / 1000.0).hour, IntegerType())"
   ]
  },
  {
   "cell_type": "code",
   "execution_count": 14,
   "metadata": {},
   "outputs": [],
   "source": [
    "data_valid = data_valid.withColumn(\"hour\", get_hour(data_valid.ts))"
   ]
  },
  {
   "cell_type": "code",
   "execution_count": 15,
   "metadata": {},
   "outputs": [],
   "source": [
    "# convert ts to time format\n",
    "get_time = udf(lambda x: datetime.datetime.fromtimestamp(x / 1000.0).strftime(\"%Y-%m-%d %H:%M:%S\"))"
   ]
  },
  {
   "cell_type": "code",
   "execution_count": 16,
   "metadata": {},
   "outputs": [],
   "source": [
    "data_valid = data_valid.withColumn(\"time\", get_time(data_valid.ts))"
   ]
  },
  {
   "cell_type": "code",
   "execution_count": 17,
   "metadata": {},
   "outputs": [
    {
     "data": {
      "text/plain": [
       "Row(artist='Martha Tilston', auth='Logged In', firstName='Colin', gender='M', itemInSession=50, lastName='Freeman', length=277.89016, level='paid', location='Bakersfield, CA', method='PUT', page='NextSong', registration=1538173362000, sessionId=29, song='Rockpools', status=200, ts=1538352117000, userAgent='Mozilla/5.0 (Windows NT 6.1; WOW64; rv:31.0) Gecko/20100101 Firefox/31.0', userId='30', hour=0, time='2018-10-01 00:01:57')"
      ]
     },
     "execution_count": 17,
     "metadata": {},
     "output_type": "execute_result"
    }
   ],
   "source": [
    "data_valid.head()"
   ]
  },
  {
   "cell_type": "markdown",
   "metadata": {},
   "source": [
    "# Exploratory Data Analysis\n",
    "When you're working with the full dataset, perform EDA by loading a small subset of the data and doing basic manipulations within Spark. In this workspace, you are already provided a small subset of data you can explore.\n",
    "\n",
    "### Define Churn\n",
    "\n",
    "Once you've done some preliminary analysis, create a column `Churn` to use as the label for your model. I suggest using the `Cancellation Confirmation` events to define your churn, which happen for both paid and free users. As a bonus task, you can also look into the `Downgrade` events.\n",
    "\n",
    "### Explore Data\n",
    "Once you've defined churn, perform some exploratory data analysis to observe the behavior for users who stayed vs users who churned. You can start by exploring aggregates on these two groups of users, observing how much of a specific action they experienced per a certain time unit or number of songs played."
   ]
  },
  {
   "cell_type": "code",
   "execution_count": 18,
   "metadata": {},
   "outputs": [
    {
     "name": "stdout",
     "output_type": "stream",
     "text": [
      "+------+--------------------+-------------------+-----+---------+\n",
      "|userId|                page|               time|level|sessionId|\n",
      "+------+--------------------+-------------------+-----+---------+\n",
      "|100001|Cancellation Conf...|2018-10-02 16:36:45| free|       53|\n",
      "|100003|Cancellation Conf...|2018-10-11 16:19:41| free|       86|\n",
      "|100005|Cancellation Conf...|2018-10-19 17:57:05| free|      115|\n",
      "|100006|Cancellation Conf...|2018-10-05 15:24:30| free|        6|\n",
      "|100007|Cancellation Conf...|2018-11-29 11:45:09| paid|      205|\n",
      "|100009|Cancellation Conf...|2018-10-27 03:31:44| free|      145|\n",
      "|100011|Cancellation Conf...|2018-10-01 18:04:45| free|       40|\n",
      "|100012|Cancellation Conf...|2018-11-01 19:35:00| free|      156|\n",
      "|100013|Cancellation Conf...|2018-11-02 18:53:36| paid|      165|\n",
      "|100014|Cancellation Conf...|2018-11-20 19:04:09| paid|      185|\n",
      "|100015|Cancellation Conf...|2018-11-24 15:35:53| paid|      188|\n",
      "|100017|Cancellation Conf...|2018-10-20 19:14:07| free|       17|\n",
      "|100019|Cancellation Conf...|2018-10-07 22:57:51| free|       71|\n",
      "|100021|Cancellation Conf...|2018-11-25 11:03:02| free|      172|\n",
      "|100022|Cancellation Conf...|2018-11-12 16:04:05| free|      191|\n",
      "|100023|Cancellation Conf...|2018-10-14 00:00:37| paid|      109|\n",
      "|100024|Cancellation Conf...|2018-10-04 23:17:18| free|       42|\n",
      "|100025|Cancellation Conf...|2018-10-23 12:52:32| free|      129|\n",
      "|   101|Cancellation Conf...|2018-10-16 22:30:37| paid|      842|\n",
      "|   103|Cancellation Conf...|2018-11-04 14:01:31| paid|     1583|\n",
      "+------+--------------------+-------------------+-----+---------+\n",
      "only showing top 20 rows\n",
      "\n"
     ]
    }
   ],
   "source": [
    "# who ever hit Cancellation Confirmation?\n",
    "data_valid.select([\"userId\", \"page\", \"time\", \"level\", \"sessionId\"]).where(data_valid.page == \"Cancellation Confirmation\").sort('userId').show()"
   ]
  },
  {
   "cell_type": "code",
   "execution_count": 19,
   "metadata": {},
   "outputs": [],
   "source": [
    "# create churn label\n",
    "flag_churn_event = udf(lambda x: 1 if x == 'Cancellation Confirmation' else 0, IntegerType())\n",
    "data_valid = data_valid.withColumn('churn_event', flag_churn_event('page'))\n",
    "\n",
    "# label user who churned\n",
    "windowval = Window.partitionBy('userId')\n",
    "df = data_valid.withColumn('churn', Fmax('churn_event').over(windowval))"
   ]
  },
  {
   "cell_type": "code",
   "execution_count": 20,
   "metadata": {},
   "outputs": [
    {
     "name": "stdout",
     "output_type": "stream",
     "text": [
      "+------+-----------+-------------------+-----+---------+-----+\n",
      "|userId|       page|               time|level|sessionId|churn|\n",
      "+------+-----------+-------------------+-----+---------+-----+\n",
      "|   101|       Home|2018-10-01 01:50:05| free|      100|    1|\n",
      "|   101|   NextSong|2018-10-01 01:53:38| free|      100|    1|\n",
      "|   101|   NextSong|2018-10-01 01:56:56| free|      100|    1|\n",
      "|   101|   NextSong|2018-10-01 02:01:29| free|      100|    1|\n",
      "|   101|   NextSong|2018-10-01 02:03:55| free|      100|    1|\n",
      "|   101|   NextSong|2018-10-01 02:07:32| free|      100|    1|\n",
      "|   101|       Help|2018-10-01 02:12:03| free|      100|    1|\n",
      "|   101|   NextSong|2018-10-01 02:13:18| free|      100|    1|\n",
      "|   101|   NextSong|2018-10-01 02:16:51| free|      100|    1|\n",
      "|   101|   NextSong|2018-10-01 02:20:32| free|      100|    1|\n",
      "|   101|   NextSong|2018-10-01 02:24:56| free|      100|    1|\n",
      "|   101|   NextSong|2018-10-01 02:29:33| free|      100|    1|\n",
      "|   101|   NextSong|2018-10-01 02:33:13| free|      100|    1|\n",
      "|   101| Add Friend|2018-10-01 02:33:14| free|      100|    1|\n",
      "|   101|       Home|2018-10-01 02:38:07| free|      100|    1|\n",
      "|   101|   NextSong|2018-10-01 02:39:01| free|      100|    1|\n",
      "|   101|   NextSong|2018-10-01 02:43:12| free|      100|    1|\n",
      "|   101|Roll Advert|2018-10-01 02:56:24| free|      100|    1|\n",
      "|   101|   NextSong|2018-10-01 02:56:48| free|      100|    1|\n",
      "|   101|   NextSong|2018-10-01 03:03:00| free|      100|    1|\n",
      "+------+-----------+-------------------+-----+---------+-----+\n",
      "only showing top 20 rows\n",
      "\n"
     ]
    }
   ],
   "source": [
    "df.select([\"userId\", \"page\", \"time\", \"level\", \"sessionId\", \"churn\"]).where(df.userId == 101).sort(\"time\").show()"
   ]
  },
  {
   "cell_type": "code",
   "execution_count": 21,
   "metadata": {
    "scrolled": true
   },
   "outputs": [
    {
     "name": "stdout",
     "output_type": "stream",
     "text": [
      "+------+----------+-------------------+-----+---------+-----+\n",
      "|userId|      page|               time|level|sessionId|churn|\n",
      "+------+----------+-------------------+-----+---------+-----+\n",
      "|    10|  NextSong|2018-10-08 02:20:20| paid|        9|    0|\n",
      "|    10|  NextSong|2018-10-08 02:24:45| paid|        9|    0|\n",
      "|    10|  NextSong|2018-10-08 02:28:05| paid|        9|    0|\n",
      "|    10|  NextSong|2018-10-08 02:31:33| paid|        9|    0|\n",
      "|    10|  NextSong|2018-10-08 02:40:19| paid|        9|    0|\n",
      "|    10|  NextSong|2018-10-08 02:44:51| paid|        9|    0|\n",
      "|    10|  NextSong|2018-10-08 02:48:18| paid|        9|    0|\n",
      "|    10| Thumbs Up|2018-10-08 02:48:19| paid|        9|    0|\n",
      "|    10|  NextSong|2018-10-08 02:50:04| paid|        9|    0|\n",
      "|    10|  NextSong|2018-10-08 02:54:03| paid|        9|    0|\n",
      "|    10|  NextSong|2018-10-08 02:58:27| paid|        9|    0|\n",
      "|    10|Add Friend|2018-10-08 02:58:28| paid|        9|    0|\n",
      "|    10|Add Friend|2018-10-08 02:58:29| paid|        9|    0|\n",
      "|    10|  NextSong|2018-10-08 03:04:30| paid|        9|    0|\n",
      "|    10|  NextSong|2018-10-08 03:08:30| paid|        9|    0|\n",
      "|    10| Thumbs Up|2018-10-08 03:08:31| paid|        9|    0|\n",
      "|    10|  NextSong|2018-10-08 03:11:56| paid|        9|    0|\n",
      "|    10|  NextSong|2018-10-08 03:19:08| paid|        9|    0|\n",
      "|    10|  NextSong|2018-10-08 03:21:47| paid|        9|    0|\n",
      "|    10|  NextSong|2018-10-08 03:25:40| paid|        9|    0|\n",
      "+------+----------+-------------------+-----+---------+-----+\n",
      "only showing top 20 rows\n",
      "\n"
     ]
    }
   ],
   "source": [
    "df.select([\"userId\", \"page\", \"time\", \"level\", \"sessionId\", \"churn\"]).where(df.userId == 10).sort(\"time\").show()"
   ]
  },
  {
   "cell_type": "code",
   "execution_count": 23,
   "metadata": {},
   "outputs": [
    {
     "data": {
      "text/plain": [
       "44864"
      ]
     },
     "execution_count": 23,
     "metadata": {},
     "output_type": "execute_result"
    }
   ],
   "source": [
    "df.where(df.churn==1).count()"
   ]
  },
  {
   "cell_type": "code",
   "execution_count": 24,
   "metadata": {},
   "outputs": [
    {
     "data": {
      "text/plain": [
       "233290"
      ]
     },
     "execution_count": 24,
     "metadata": {},
     "output_type": "execute_result"
    }
   ],
   "source": [
    "df.where(df.churn==0).count()"
   ]
  },
  {
   "cell_type": "markdown",
   "metadata": {},
   "source": [
    "---"
   ]
  },
  {
   "cell_type": "code",
   "execution_count": 22,
   "metadata": {},
   "outputs": [],
   "source": [
    "def show_plot_spark_df(df, col):\n",
    "    \"\"\"\n",
    "    plot distribution plot of a spark dataframe differing status of 'churn'\n",
    "    \n",
    "    input:\n",
    "    df: dataframe. input dataframe.\n",
    "    col: string. label of target of analysis\n",
    "    \"\"\"\n",
    "    # convert to pandas df\n",
    "    df_pd = df.toPandas()\n",
    "    df_pd = df_pd.set_index(col)\n",
    "    df_pd = df_pd[df_pd[\"churn\"]==1].join(df_pd[df_pd[\"churn\"]==0], lsuffix='_churn_true', rsuffix='_churn_false').drop(columns = [\"churn_churn_true\", \"churn_churn_false\"])\n",
    "    ax1 = df_pd.plot.bar()\n",
    "    ax1.set_ylabel(\"Abs Count\")\n",
    "    \n",
    "    df_percentage = df_pd\n",
    "    df_percentage['percentage_churn_true'] = df_percentage['count_churn_true'] / sum(df_percentage['count_churn_true']) * 100\n",
    "    df_percentage['percentage_churn_false'] = df_percentage['count_churn_false'] / sum(df_percentage['count_churn_false']) * 100\n",
    "    df_percentage.drop(columns = [\"count_churn_true\", \"count_churn_false\"], inplace=True)\n",
    "    ax2 = df_percentage.plot.bar()\n",
    "    ax2.set_ylabel(\"Percentage\")"
   ]
  },
  {
   "cell_type": "markdown",
   "metadata": {},
   "source": [
    "**churned vs stayed Analysis 1:**\n",
    "actions distribution (except Cancel, Cancellation Confirmation and played song)"
   ]
  },
  {
   "cell_type": "code",
   "execution_count": 23,
   "metadata": {
    "scrolled": true
   },
   "outputs": [
    {
     "data": {
      "image/png": "[encoded data removed]",
      "text/plain": [
       "<matplotlib.figure.Figure at 0x7f4e00a6eb70>"
      ]
     },
     "metadata": {
      "needs_background": "light"
     },
     "output_type": "display_data"
    },
    {
     "data": {
      "image/png": "[encoded data removed]",
      "text/plain": [
       "<matplotlib.figure.Figure at 0x7f4e07272c50>"
      ]
     },
     "metadata": {
      "needs_background": "light"
     },
     "output_type": "display_data"
    }
   ],
   "source": [
    "df_a1 = df.filter((df.page != \"Cancel\") & (df.page != \"Cancellation Confirmation\") & (df.page != \"NextSong\")).groupby(['churn', 'page']).count()\n",
    "show_plot_spark_df(df_a1, 'page')"
   ]
  },
  {
   "cell_type": "markdown",
   "metadata": {},
   "source": [
    "**churned vs stayed Analysis 2:**\n",
    "gender distribution"
   ]
  },
  {
   "cell_type": "code",
   "execution_count": 24,
   "metadata": {},
   "outputs": [
    {
     "data": {
      "image/png": "[encoded data removed]",
      "text/plain": [
       "<matplotlib.figure.Figure at 0x7f4e000e1a90>"
      ]
     },
     "metadata": {
      "needs_background": "light"
     },
     "output_type": "display_data"
    },
    {
     "data": {
      "image/png": "[encoded data removed]",
      "text/plain": [
       "<matplotlib.figure.Figure at 0x7f4e000686a0>"
      ]
     },
     "metadata": {
      "needs_background": "light"
     },
     "output_type": "display_data"
    }
   ],
   "source": [
    "df_a3 = df.groupby(['churn', 'gender']).count()\n",
    "show_plot_spark_df(df_a3, 'gender')"
   ]
  },
  {
   "cell_type": "markdown",
   "metadata": {},
   "source": [
    "**churned vs stayed Analysis 3:**\n",
    "Time(hour) distribution"
   ]
  },
  {
   "cell_type": "code",
   "execution_count": 25,
   "metadata": {},
   "outputs": [
    {
     "data": {
      "image/png": "[encoded data removed]",
      "text/plain": [
       "<matplotlib.figure.Figure at 0x7f4e000a7550>"
      ]
     },
     "metadata": {
      "needs_background": "light"
     },
     "output_type": "display_data"
    },
    {
     "data": {
      "image/png": "[encoded data removed]",
      "text/plain": [
       "<matplotlib.figure.Figure at 0x7f4df9f60160>"
      ]
     },
     "metadata": {
      "needs_background": "light"
     },
     "output_type": "display_data"
    }
   ],
   "source": [
    "df_a4 = df.groupby(['churn', 'hour']).count().sort(\"hour\")\n",
    "show_plot_spark_df(df_a4, 'hour')"
   ]
  },
  {
   "cell_type": "markdown",
   "metadata": {},
   "source": [
    "**Conclusion**\n",
    "\n",
    "First of all, more users choose to stay instead of churn, therefore the count of stayed user is much bigger than the count of churned user. In oder to compare, we convert the absolute value to percentage value.\n",
    "\n",
    "In analysis 1, we noticed that the stayed user visitied Thumbs up page more than the churned user. Meanwhile, the percentage roll advert. visit of churned group is much higher than the stayed group.\n",
    "\n",
    "In analysis 2, we noticed that in churned group, the number of male is more than female. Females seem to like sparkify more.\n",
    "\n",
    "In analysis 3, we noticed that the churned uses tent to use more between 15 - 20 than stayed user. It is the time when server is relatively busy, maybe this gave them bad experience."
   ]
  },
  {
   "cell_type": "markdown",
   "metadata": {},
   "source": [
    "# Feature Engineering\n",
    "Once you've familiarized yourself with the data, build out the features you find promising to train your model on. To work with the full dataset, you can follow the following steps.\n",
    "- Write a script to extract the necessary features from the smaller subset of data\n",
    "- Ensure that your script is scalable, using the best practices discussed in Lesson 3\n",
    "- Try your script on the full data set, debugging your script if necessary\n",
    "\n",
    "If you are working in the classroom workspace, you can just extract features based on the small subset of data contained here. Be sure to transfer over this work to the larger dataset when you work on your Spark cluster."
   ]
  },
  {
   "cell_type": "code",
   "execution_count": 26,
   "metadata": {},
   "outputs": [
    {
     "name": "stdout",
     "output_type": "stream",
     "text": [
      "root\n",
      " |-- artist: string (nullable = true)\n",
      " |-- auth: string (nullable = true)\n",
      " |-- firstName: string (nullable = true)\n",
      " |-- gender: string (nullable = true)\n",
      " |-- itemInSession: long (nullable = true)\n",
      " |-- lastName: string (nullable = true)\n",
      " |-- length: double (nullable = true)\n",
      " |-- level: string (nullable = true)\n",
      " |-- location: string (nullable = true)\n",
      " |-- method: string (nullable = true)\n",
      " |-- page: string (nullable = true)\n",
      " |-- registration: long (nullable = true)\n",
      " |-- sessionId: long (nullable = true)\n",
      " |-- song: string (nullable = true)\n",
      " |-- status: long (nullable = true)\n",
      " |-- ts: long (nullable = true)\n",
      " |-- userAgent: string (nullable = true)\n",
      " |-- userId: string (nullable = true)\n",
      " |-- hour: integer (nullable = true)\n",
      " |-- time: string (nullable = true)\n",
      " |-- churn_event: integer (nullable = true)\n",
      " |-- churn: integer (nullable = true)\n",
      "\n"
     ]
    }
   ],
   "source": [
    "df.printSchema()"
   ]
  },
  {
   "cell_type": "code",
   "execution_count": 27,
   "metadata": {},
   "outputs": [
    {
     "data": {
      "text/plain": [
       "Row(artist='Sleeping With Sirens', auth='Logged In', firstName='Darianna', gender='F', itemInSession=0, lastName='Carpenter', length=202.97098, level='free', location='Bridgeport-Stamford-Norwalk, CT', method='PUT', page='NextSong', registration=1538016340000, sessionId=31, song='Captain Tyin Knots VS Mr Walkway (No Way)', status=200, ts=1539003534000, userAgent='\"Mozilla/5.0 (iPhone; CPU iPhone OS 7_1_2 like Mac OS X) AppleWebKit/537.51.2 (KHTML, like Gecko) Version/7.0 Mobile/11D257 Safari/9537.53\"', userId='100010', hour=12, time='2018-10-08 12:58:54', churn_event=0, churn=0)"
      ]
     },
     "execution_count": 27,
     "metadata": {},
     "output_type": "execute_result"
    }
   ],
   "source": [
    "df.head()"
   ]
  },
  {
   "cell_type": "markdown",
   "metadata": {},
   "source": [
    "**Label df: churn**"
   ]
  },
  {
   "cell_type": "code",
   "execution_count": 28,
   "metadata": {},
   "outputs": [
    {
     "name": "stdout",
     "output_type": "stream",
     "text": [
      "+------+-----+\n",
      "|userId|label|\n",
      "+------+-----+\n",
      "|    10|    0|\n",
      "|   100|    0|\n",
      "|100001|    1|\n",
      "|100002|    0|\n",
      "|100003|    1|\n",
      "|100004|    0|\n",
      "|100005|    1|\n",
      "|100006|    1|\n",
      "|100007|    1|\n",
      "|100008|    0|\n",
      "|100009|    1|\n",
      "|100010|    0|\n",
      "|100011|    1|\n",
      "|100012|    1|\n",
      "|100013|    1|\n",
      "|100014|    1|\n",
      "|100015|    1|\n",
      "|100016|    0|\n",
      "|100017|    1|\n",
      "|100018|    0|\n",
      "+------+-----+\n",
      "only showing top 20 rows\n",
      "\n"
     ]
    }
   ],
   "source": [
    "# Churn label\n",
    "label = df \\\n",
    "    .select('userId', col('churn').alias('label')) \\\n",
    "    .dropDuplicates()\n",
    "label.sort(\"userId\").show()"
   ]
  },
  {
   "cell_type": "markdown",
   "metadata": {},
   "source": [
    "**Feature df(s) 0: count of each action of pages** (except Cancel and Cancel Confirmation)"
   ]
  },
  {
   "cell_type": "code",
   "execution_count": 29,
   "metadata": {},
   "outputs": [],
   "source": [
    "pages = df.select(\"page\").where((df.page != \"Cancel\") & (df.page != \"Cancellation Confirmation\")).dropDuplicates()"
   ]
  },
  {
   "cell_type": "code",
   "execution_count": 30,
   "metadata": {},
   "outputs": [],
   "source": [
    "actions = [r[\"page\"] for r in pages.collect()]"
   ]
  },
  {
   "cell_type": "code",
   "execution_count": 31,
   "metadata": {},
   "outputs": [],
   "source": [
    "f0 = [\n",
    "    df\\\n",
    "    .select('userID','page') \\\n",
    "    .where(df.page == a) \\\n",
    "    .groupBy('userID') \\\n",
    "    .count() \\\n",
    "    .withColumnRenamed('count', 'count_' + a.replace(\" \", \"\")) \n",
    "    for a in actions]"
   ]
  },
  {
   "cell_type": "code",
   "execution_count": 32,
   "metadata": {},
   "outputs": [
    {
     "name": "stdout",
     "output_type": "stream",
     "text": [
      "+------+---------------------+\n",
      "|userID|count_SubmitDowngrade|\n",
      "+------+---------------------+\n",
      "|   100|                    1|\n",
      "|100004|                    2|\n",
      "|100008|                    1|\n",
      "|100009|                    1|\n",
      "|100012|                    1|\n",
      "|100015|                    1|\n",
      "|100016|                    1|\n",
      "|100018|                    2|\n",
      "|100025|                    1|\n",
      "|   103|                    1|\n",
      "|   109|                    1|\n",
      "|    11|                    1|\n",
      "|    12|                    1|\n",
      "|    13|                    2|\n",
      "|   131|                    2|\n",
      "|   140|                    3|\n",
      "|   141|                    1|\n",
      "|    20|                    2|\n",
      "|200003|                    2|\n",
      "|200009|                    1|\n",
      "+------+---------------------+\n",
      "only showing top 20 rows\n",
      "\n"
     ]
    }
   ],
   "source": [
    "f0[0].sort(\"userId\").show()"
   ]
  },
  {
   "cell_type": "markdown",
   "metadata": {},
   "source": [
    "**Feature df 1: gender**"
   ]
  },
  {
   "cell_type": "code",
   "execution_count": 33,
   "metadata": {},
   "outputs": [
    {
     "name": "stdout",
     "output_type": "stream",
     "text": [
      "+------+------+\n",
      "|userId|gender|\n",
      "+------+------+\n",
      "|    10|     0|\n",
      "|   100|     0|\n",
      "|100001|     1|\n",
      "|100002|     1|\n",
      "|100003|     1|\n",
      "|100004|     1|\n",
      "|100005|     0|\n",
      "|100006|     1|\n",
      "|100007|     1|\n",
      "|100008|     1|\n",
      "|100009|     0|\n",
      "|100010|     1|\n",
      "|100011|     0|\n",
      "|100012|     0|\n",
      "|100013|     1|\n",
      "|100014|     0|\n",
      "|100015|     1|\n",
      "|100016|     0|\n",
      "|100017|     0|\n",
      "|100018|     0|\n",
      "+------+------+\n",
      "only showing top 20 rows\n",
      "\n"
     ]
    }
   ],
   "source": [
    "f1 = df \\\n",
    "    .select(\"userId\", \"gender\") \\\n",
    "    .dropDuplicates() \\\n",
    "    .replace(['M', 'F'], ['0', '1'], 'gender') \\\n",
    "    .select('userId', col('gender').cast('int'))\n",
    "f1.sort(\"userId\").show()"
   ]
  },
  {
   "cell_type": "markdown",
   "metadata": {},
   "source": [
    "**Feature df 2: life time**"
   ]
  },
  {
   "cell_type": "code",
   "execution_count": 34,
   "metadata": {},
   "outputs": [
    {
     "name": "stdout",
     "output_type": "stream",
     "text": [
      "+------+------------------+\n",
      "|userId|          lifetime|\n",
      "+------+------------------+\n",
      "|    10| 51.76265046296297|\n",
      "|   100| 64.87377314814815|\n",
      "|100001| 44.80021990740741|\n",
      "|100002|160.47207175925925|\n",
      "|100003|22.748113425925926|\n",
      "|100004|172.44008101851853|\n",
      "|100005| 85.19559027777778|\n",
      "|100006| 9.127164351851851|\n",
      "|100007|115.38761574074074|\n",
      "|100008| 68.22856481481482|\n",
      "|100009| 37.43827546296296|\n",
      "|100010|  55.6436574074074|\n",
      "|100011| 5.165115740740741|\n",
      "|100012| 43.05261574074074|\n",
      "|100013| 44.17873842592593|\n",
      "|100014| 85.08340277777778|\n",
      "|100015| 67.87921296296297|\n",
      "|100016| 75.01533564814815|\n",
      "|100017| 78.88440972222223|\n",
      "|100018|110.71211805555555|\n",
      "+------+------------------+\n",
      "only showing top 20 rows\n",
      "\n"
     ]
    }
   ],
   "source": [
    "f2 = df \\\n",
    "    .select('userId','registration','ts') \\\n",
    "    .withColumn('lifetime',(df.ts-df.registration)) \\\n",
    "    .groupBy('userId') \\\n",
    "    .agg({'lifetime':'max'}) \\\n",
    "    .withColumnRenamed('max(lifetime)','lifetime') \\\n",
    "    .select('userId', (col('lifetime')/1000/3600/24).alias('lifetime'))\n",
    "f2.sort(\"userId\").show()"
   ]
  },
  {
   "cell_type": "markdown",
   "metadata": {},
   "source": [
    "**Feature df 3: avg, min, max time per session**"
   ]
  },
  {
   "cell_type": "code",
   "execution_count": 35,
   "metadata": {},
   "outputs": [
    {
     "name": "stdout",
     "output_type": "stream",
     "text": [
      "+------+------------------+------------------+------------------+\n",
      "|userId|avg_session_length|min_session_length|max_session_length|\n",
      "+------+------------------+------------------+------------------+\n",
      "|    10|26700.002281666675|        5685.43701| 87251.22061000002|\n",
      "|   100|19285.529964117646|411.40108999999995| 58440.64074999997|\n",
      "|100001|      8768.4355375|        3909.74151|13057.543319999997|\n",
      "|100002|     12166.3130375|         465.60608|       43355.37714|\n",
      "|100003|6153.2096599999995|         387.44725|       11918.97207|\n",
      "|100004|11383.596271500002|         141.84444|       52856.90311|\n",
      "|100005| 9259.280502499998|4880.1612000000005|12788.221759999999|\n",
      "|100006| 5854.891049999998| 5854.891049999998| 5854.891049999998|\n",
      "|100007|11417.184301111112| 810.4471599999999| 39754.45530000001|\n",
      "|100008| 30652.07786499999|3559.2547700000005|114861.40077999994|\n",
      "|100009|12811.219937999998|         504.05787|39515.720870000005|\n",
      "|100010|  9524.74959857143|        1597.56743|19634.667400000002|\n",
      "|100011|         2841.6995|         2841.6995|         2841.6995|\n",
      "|100012|18528.200258333338|3246.4925200000002|42275.708810000026|\n",
      "|100013|21094.745258461542|         927.26675|         50583.392|\n",
      "|100014|11058.210001666666|         420.59664|16986.796489999997|\n",
      "|100015|     16050.7238625|         221.07383|32017.467920000003|\n",
      "|100016|    15595.48445125|3395.1805799999997| 59823.56102999998|\n",
      "|100017|        12022.4161|        12022.4161|        12022.4161|\n",
      "|100018|12275.877633000002|         278.83057| 55371.21353000001|\n",
      "+------+------------------+------------------+------------------+\n",
      "only showing top 20 rows\n",
      "\n"
     ]
    }
   ],
   "source": [
    "f3= df \\\n",
    "    .select(\"userId\", \"sessionId\", \"length\") \\\n",
    "    .dropDuplicates() \\\n",
    "    .groupby(\"userId\", \"sessionId\")\\\n",
    "    .agg(Fsum(\"length\"))\\\n",
    "    .groupby(\"userId\")\\\n",
    "    .agg(Favg(\"sum(length)\").alias(\"avg_session_length\"), Fmin(\"sum(length)\").alias(\"min_session_length\"), Fmax(\"sum(length)\").alias(\"max_session_length\"))\n",
    "f3.sort(\"userId\").show()"
   ]
  },
  {
   "cell_type": "markdown",
   "metadata": {},
   "source": [
    "**Feature df 4: average number of songs heard per session**"
   ]
  },
  {
   "cell_type": "code",
   "execution_count": 36,
   "metadata": {},
   "outputs": [
    {
     "name": "stdout",
     "output_type": "stream",
     "text": [
      "+------+------------------+\n",
      "|userId|  avg_songs_played|\n",
      "+------+------------------+\n",
      "|    10|112.16666666666667|\n",
      "|   100| 78.88235294117646|\n",
      "|100001|             33.25|\n",
      "|100002|             48.75|\n",
      "|100003|              25.5|\n",
      "|100004|              47.1|\n",
      "|100005|              38.5|\n",
      "|100006|              26.0|\n",
      "|100007|              47.0|\n",
      "|100008|128.66666666666666|\n",
      "|100009|              51.8|\n",
      "|100010|39.285714285714285|\n",
      "|100011|              11.0|\n",
      "|100012| 79.33333333333333|\n",
      "|100013|              87.0|\n",
      "|100014|42.833333333333336|\n",
      "|100015| 66.66666666666667|\n",
      "|100016|             66.25|\n",
      "|100017|              52.0|\n",
      "|100018|              50.1|\n",
      "+------+------------------+\n",
      "only showing top 20 rows\n",
      "\n"
     ]
    }
   ],
   "source": [
    "f4 = df.where('page == \"NextSong\"') \\\n",
    "    .groupby(['userId', 'sessionId']) \\\n",
    "    .count() \\\n",
    "    .groupby(['userId']) \\\n",
    "    .agg({'count':'avg'}) \\\n",
    "    .withColumnRenamed('avg(count)', 'avg_songs_played')\n",
    "f4.sort(\"userId\").show()"
   ]
  },
  {
   "cell_type": "markdown",
   "metadata": {},
   "source": [
    "**Feature df 5: failed actions between 15:00 -20:00**"
   ]
  },
  {
   "cell_type": "code",
   "execution_count": 37,
   "metadata": {},
   "outputs": [
    {
     "name": "stdout",
     "output_type": "stream",
     "text": [
      "+------+--------------------+\n",
      "|userId|count_failed_actions|\n",
      "+------+--------------------+\n",
      "|    10|                  17|\n",
      "|   100|                 104|\n",
      "|100001|                   2|\n",
      "|100002|                   5|\n",
      "|100003|                   3|\n",
      "|100004|                  26|\n",
      "|100005|                  13|\n",
      "|100006|                   5|\n",
      "|100007|                   4|\n",
      "|100008|                  35|\n",
      "|100009|                  16|\n",
      "|100010|                  11|\n",
      "|100011|                   2|\n",
      "|100012|                  28|\n",
      "|100013|                  41|\n",
      "|100014|                  25|\n",
      "|100015|                  16|\n",
      "|100016|                  23|\n",
      "|100017|                   4|\n",
      "|100018|                  30|\n",
      "+------+--------------------+\n",
      "only showing top 20 rows\n",
      "\n"
     ]
    }
   ],
   "source": [
    "f5 = df \\\n",
    "    .select('userId','hour','status') \\\n",
    "    .where((df.status != 200) & (15 <= df.hour) & (df.hour <=20)) \\\n",
    "    .groupby(\"userId\")\\\n",
    "    .agg(Fcount(\"status\").alias(\"count_failed_actions\"))\n",
    "f5.sort(\"userId\").show()"
   ]
  },
  {
   "cell_type": "markdown",
   "metadata": {},
   "source": [
    "**join all feature dataframes together**"
   ]
  },
  {
   "cell_type": "code",
   "execution_count": 38,
   "metadata": {},
   "outputs": [],
   "source": [
    "f_list = f0 + [f1, f2, f3, f4, f5, label]"
   ]
  },
  {
   "cell_type": "code",
   "execution_count": 39,
   "metadata": {},
   "outputs": [],
   "source": [
    "merged_df = reduce(lambda a,b: a.join(b,'userID','outer').fillna(0),f_list) "
   ]
  },
  {
   "cell_type": "code",
   "execution_count": 40,
   "metadata": {},
   "outputs": [
    {
     "name": "stdout",
     "output_type": "stream",
     "text": [
      "root\n",
      " |-- userID: string (nullable = true)\n",
      " |-- count_SubmitDowngrade: long (nullable = true)\n",
      " |-- count_ThumbsDown: long (nullable = true)\n",
      " |-- count_Home: long (nullable = true)\n",
      " |-- count_Downgrade: long (nullable = true)\n",
      " |-- count_RollAdvert: long (nullable = true)\n",
      " |-- count_Logout: long (nullable = true)\n",
      " |-- count_SaveSettings: long (nullable = true)\n",
      " |-- count_About: long (nullable = true)\n",
      " |-- count_Settings: long (nullable = true)\n",
      " |-- count_AddtoPlaylist: long (nullable = true)\n",
      " |-- count_AddFriend: long (nullable = true)\n",
      " |-- count_NextSong: long (nullable = true)\n",
      " |-- count_ThumbsUp: long (nullable = true)\n",
      " |-- count_Help: long (nullable = true)\n",
      " |-- count_Upgrade: long (nullable = true)\n",
      " |-- count_Error: long (nullable = true)\n",
      " |-- count_SubmitUpgrade: long (nullable = true)\n",
      " |-- gender: integer (nullable = true)\n",
      " |-- lifetime: double (nullable = false)\n",
      " |-- avg_session_length: double (nullable = false)\n",
      " |-- min_session_length: double (nullable = false)\n",
      " |-- max_session_length: double (nullable = false)\n",
      " |-- avg_songs_played: double (nullable = false)\n",
      " |-- count_failed_actions: long (nullable = true)\n",
      " |-- label: integer (nullable = true)\n",
      "\n"
     ]
    }
   ],
   "source": [
    "merged_df.printSchema()"
   ]
  },
  {
   "cell_type": "code",
   "execution_count": 41,
   "metadata": {},
   "outputs": [],
   "source": [
    "df_feature = merged_df.drop(\"UserId\")"
   ]
  },
  {
   "cell_type": "code",
   "execution_count": 42,
   "metadata": {},
   "outputs": [
    {
     "data": {
      "text/plain": [
       "['count_SubmitDowngrade',\n",
       " 'count_ThumbsDown',\n",
       " 'count_Home',\n",
       " 'count_Downgrade',\n",
       " 'count_RollAdvert',\n",
       " 'count_Logout',\n",
       " 'count_SaveSettings',\n",
       " 'count_About',\n",
       " 'count_Settings',\n",
       " 'count_AddtoPlaylist',\n",
       " 'count_AddFriend',\n",
       " 'count_NextSong',\n",
       " 'count_ThumbsUp',\n",
       " 'count_Help',\n",
       " 'count_Upgrade',\n",
       " 'count_Error',\n",
       " 'count_SubmitUpgrade',\n",
       " 'gender',\n",
       " 'lifetime',\n",
       " 'avg_session_length',\n",
       " 'min_session_length',\n",
       " 'max_session_length',\n",
       " 'avg_songs_played',\n",
       " 'count_failed_actions',\n",
       " 'label']"
      ]
     },
     "execution_count": 42,
     "metadata": {},
     "output_type": "execute_result"
    }
   ],
   "source": [
    "df_feature.columns"
   ]
  },
  {
   "cell_type": "markdown",
   "metadata": {},
   "source": [
    "# Modeling\n",
    "Split the full dataset into train, test, and validation sets. Test out several of the machine learning methods you learned. Evaluate the accuracy of the various models, tuning parameters as necessary. Determine your winning model based on test accuracy and report results on the validation set. Since the churned users are a fairly small subset, I suggest using F1 score as the metric to optimize."
   ]
  },
  {
   "cell_type": "markdown",
   "metadata": {},
   "source": [
    "**vectorize the features**"
   ]
  },
  {
   "cell_type": "code",
   "execution_count": 43,
   "metadata": {},
   "outputs": [],
   "source": [
    "cols = df_feature.columns\n",
    "cols.remove(\"label\")"
   ]
  },
  {
   "cell_type": "code",
   "execution_count": 44,
   "metadata": {},
   "outputs": [],
   "source": [
    "assembler = VectorAssembler(inputCols=cols, outputCol=\"NumFeatures\")\n",
    "df_feature = assembler.transform(df_feature)"
   ]
  },
  {
   "cell_type": "markdown",
   "metadata": {},
   "source": [
    "**scale the features**"
   ]
  },
  {
   "cell_type": "code",
   "execution_count": 45,
   "metadata": {},
   "outputs": [],
   "source": [
    "scaler = StandardScaler(inputCol=\"NumFeatures\", outputCol=\"features\", withStd=True)\n",
    "scalerModel = scaler.fit(df_feature)\n",
    "df_feature = scalerModel.transform(df_feature)"
   ]
  },
  {
   "cell_type": "markdown",
   "metadata": {},
   "source": [
    "**split the data into train, validation, and test sets**"
   ]
  },
  {
   "cell_type": "code",
   "execution_count": 46,
   "metadata": {},
   "outputs": [],
   "source": [
    "train, rest = df_feature.randomSplit([0.6, 0.4], seed=42)\n",
    "validation, test = rest.randomSplit([0.5, 0.5], seed=42)"
   ]
  },
  {
   "cell_type": "markdown",
   "metadata": {},
   "source": [
    "**start training models**"
   ]
  },
  {
   "cell_type": "code",
   "execution_count": 47,
   "metadata": {},
   "outputs": [],
   "source": [
    "def train_model(classifier, train, validation, test, param_grid=None, evaluation=True):\n",
    "    \"\"\"\n",
    "    train model using dataframes\n",
    "    \n",
    "    input: \n",
    "    classifier: classifier object, initialized classifier\n",
    "    train: dataframe, training set\n",
    "    validation: dataframe, validation set\n",
    "    test: dataframe, test set\n",
    "    param_grid: ParamGridBuilder object, optional, used for gridsearch\n",
    "    evalutation: Bool, if print out evaluation results\n",
    "    \n",
    "    output:\n",
    "    cv_model: classifier object, trained model with trainning set\n",
    "    results_validation: dataframe, result dataframe applying the model to validation set\n",
    "    results_test: dataframe, result dataframe applying the model to test set\n",
    "    \"\"\"\n",
    "    if param_grid is None:\n",
    "        param_grid = ParamGridBuilder().build()\n",
    "    f1_evaluator = MulticlassClassificationEvaluator(metricName='f1')\n",
    "    crossvalidator = CrossValidator(\n",
    "        estimator=classifier,\n",
    "        estimatorParamMaps=param_grid,\n",
    "        evaluator=f1_evaluator\n",
    "    )\n",
    "    cv_model = crossvalidator.fit(train)\n",
    "    \n",
    "    # result on test and validation set\n",
    "    if evaluation:\n",
    "        results_validation = cv_model.transform(validation)\n",
    "        results_test = cv_model.transform(test)\n",
    "        evaluator = MulticlassClassificationEvaluator(predictionCol=\"prediction\")\n",
    "        print('Validation:')\n",
    "        print('Accuracy: {}'.format(evaluator.evaluate(results_validation, {evaluator.metricName: \"accuracy\"})))\n",
    "        print('F-1 Score:{}'.format(evaluator.evaluate(results_validation, {evaluator.metricName: \"f1\"})))\n",
    "        print('\\n')\n",
    "        print('Test:')\n",
    "        print('Accuracy: {}'.format(evaluator.evaluate(results_test, {evaluator.metricName: \"accuracy\"})))\n",
    "        print('F-1 Score:{}'.format(evaluator.evaluate(results_test, {evaluator.metricName: \"f1\"})))\n",
    "\n",
    "        return cv_model, results_validation, results_test\n",
    "    else:\n",
    "        return cv_model"
   ]
  },
  {
   "cell_type": "markdown",
   "metadata": {},
   "source": [
    "**model 1: random forest**"
   ]
  },
  {
   "cell_type": "code",
   "execution_count": 49,
   "metadata": {},
   "outputs": [],
   "source": [
    "rf = RandomForestClassifier()"
   ]
  },
  {
   "cell_type": "code",
   "execution_count": 51,
   "metadata": {},
   "outputs": [
    {
     "name": "stdout",
     "output_type": "stream",
     "text": [
      "Validation:\n",
      "Accuracy: 0.8\n",
      "F-1 Score:0.7701863354037268\n",
      "\n",
      "\n",
      "Test:\n",
      "Accuracy: 0.7647058823529411\n",
      "F-1 Score:0.7215498639647246\n",
      "CPU times: user 3.92 s, sys: 784 ms, total: 4.71 s\n",
      "Wall time: 24min 24s\n"
     ]
    }
   ],
   "source": [
    "%%time\n",
    "cv_model_rf, results_validation, results_test = train_model(rf, train, validation, test)"
   ]
  },
  {
   "cell_type": "markdown",
   "metadata": {},
   "source": [
    "**model 2: linear svc**"
   ]
  },
  {
   "cell_type": "code",
   "execution_count": 49,
   "metadata": {},
   "outputs": [],
   "source": [
    "lsvc = LinearSVC(maxIter=10)"
   ]
  },
  {
   "cell_type": "code",
   "execution_count": 50,
   "metadata": {},
   "outputs": [
    {
     "name": "stdout",
     "output_type": "stream",
     "text": [
      "Validation:\n",
      "Accuracy: 0.6666666666666666\n",
      "F-1 Score:0.5333333333333333\n",
      "\n",
      "\n",
      "Test:\n",
      "Accuracy: 0.7647058823529411\n",
      "F-1 Score:0.6627450980392157\n",
      "CPU times: user 5.23 s, sys: 1.58 s, total: 6.81 s\n",
      "Wall time: 30min 10s\n"
     ]
    }
   ],
   "source": [
    "%%time\n",
    "cv_model_lsvc, results_validation, results_test = train_model(lsvc, train, validation, test)"
   ]
  },
  {
   "cell_type": "markdown",
   "metadata": {},
   "source": [
    "**model 3: GBT**"
   ]
  },
  {
   "cell_type": "code",
   "execution_count": 48,
   "metadata": {},
   "outputs": [],
   "source": [
    "gbt = GBTClassifier(maxIter=10,seed=42)"
   ]
  },
  {
   "cell_type": "code",
   "execution_count": 49,
   "metadata": {},
   "outputs": [
    {
     "name": "stdout",
     "output_type": "stream",
     "text": [
      "Validation:\n",
      "Accuracy: 0.6666666666666666\n",
      "F-1 Score:0.6560846560846562\n",
      "\n",
      "\n",
      "Test:\n",
      "Accuracy: 0.7647058823529411\n",
      "F-1 Score:0.7647058823529412\n",
      "CPU times: user 10.7 s, sys: 2.66 s, total: 13.4 s\n",
      "Wall time: 43min 36s\n"
     ]
    }
   ],
   "source": [
    "%%time\n",
    "cv_model_gbt, results_validation, results_test = train_model(gbt, train, validation, test)"
   ]
  },
  {
   "cell_type": "markdown",
   "metadata": {},
   "source": [
    "**conclusion**\n",
    "\n",
    "The GBT Classifier performs the best out of three chosen classifiers, although the training time is the longest. In this usecase the traning time is not a critical point, therefore for us the optimal classifier will be GBTClassifier."
   ]
  },
  {
   "cell_type": "markdown",
   "metadata": {},
   "source": [
    "**Hyper-parameter tuning**"
   ]
  },
  {
   "cell_type": "code",
   "execution_count": 51,
   "metadata": {
    "scrolled": true
   },
   "outputs": [],
   "source": [
    "paramGrid_gbt = ParamGridBuilder().addGrid(gbt.maxDepth,[5, 10]).addGrid(gbt.stepSize,[0.2, 0.5]).build()"
   ]
  },
  {
   "cell_type": "code",
   "execution_count": 52,
   "metadata": {
    "scrolled": true
   },
   "outputs": [
    {
     "name": "stdout",
     "output_type": "stream",
     "text": [
      "CPU times: user 40.6 s, sys: 9.75 s, total: 50.4 s\n",
      "Wall time: 1h 51min 1s\n"
     ]
    }
   ],
   "source": [
    "%%time\n",
    "cv_model_gbt = train_model(gbt, train, validation, test, paramGrid_gbt, evaluation=False)\n",
    "cv_model_gbt.avgMetrics"
   ]
  },
  {
   "cell_type": "code",
   "execution_count": 53,
   "metadata": {},
   "outputs": [
    {
     "data": {
      "text/plain": [
       "[0.7291348305644842,\n",
       " 0.7291348305644842,\n",
       " 0.7248456968834226,\n",
       " 0.7248456968834226]"
      ]
     },
     "execution_count": 53,
     "metadata": {},
     "output_type": "execute_result"
    }
   ],
   "source": [
    "cv_model_gbt.avgMetrics"
   ]
  },
  {
   "cell_type": "code",
   "execution_count": 64,
   "metadata": {
    "scrolled": true
   },
   "outputs": [],
   "source": [
    "gbt_best = GBTClassifier(maxIter=10,seed=42, maxDepth=5)\n",
    "gbt_best_model = gbt_best.fit(train)\n",
    "results_final = gbt_best_model.transform(test)"
   ]
  },
  {
   "cell_type": "code",
   "execution_count": 74,
   "metadata": {},
   "outputs": [
    {
     "name": "stdout",
     "output_type": "stream",
     "text": [
      "Test:\n",
      "Accuracy: 0.7647058823529411\n",
      "F-1 Score:0.7647058823529412\n"
     ]
    }
   ],
   "source": [
    "evaluator = MulticlassClassificationEvaluator(predictionCol=\"prediction\")\n",
    "print('Test:')\n",
    "print('Accuracy: {}'.format(evaluator.evaluate(results_final, {evaluator.metricName: \"accuracy\"})))\n",
    "print('F-1 Score:{}'.format(evaluator.evaluate(results_final, {evaluator.metricName: \"f1\"})))"
   ]
  },
  {
   "cell_type": "markdown",
   "metadata": {},
   "source": [
    "**conclusion**\n",
    "\n",
    "default parameters give us the best performance"
   ]
  },
  {
   "cell_type": "markdown",
   "metadata": {},
   "source": [
    "**feature importance analysis**"
   ]
  },
  {
   "cell_type": "code",
   "execution_count": 73,
   "metadata": {},
   "outputs": [
    {
     "data": {
      "image/png": "[encoded data removed]",
      "text/plain": [
       "<matplotlib.figure.Figure at 0x7f4df853f080>"
      ]
     },
     "metadata": {
      "needs_background": "light"
     },
     "output_type": "display_data"
    }
   ],
   "source": [
    "feat_imp = gbt_best_model.featureImportances\n",
    "y_pos = np.arange(len(cols))\n",
    " \n",
    "plt.barh(y_pos, feat_imp, align='center')\n",
    "plt.yticks(y_pos, cols)\n",
    "plt.xlabel('Importance Score')\n",
    "plt.title('GBT Feature Importances');"
   ]
  },
  {
   "cell_type": "markdown",
   "metadata": {},
   "source": [
    "**conclusion**\n",
    "\n",
    "The top 1 relevant feature is the life time, which is actually already an indirect indicator of if the user like the app or platform or not. The users who like the app will definitely stay longer.\n",
    "The second important feature is count of roll advert, which is as expected. As analyzed in churned vs stayed Analysis 1, if a user have to roll advertisement a lot, it might give them bad experience.\n",
    "The third important feature is count of adding friends. It shows the power of a friendship. The more people a user can find who share the same music taste, the more possible the user will stay."
   ]
  },
  {
   "cell_type": "markdown",
   "metadata": {},
   "source": [
    "# Final Steps\n",
    "Clean up your code, adding comments and renaming variables to make the code easier to read and maintain. Refer to the Spark Project Overview page and Data Scientist Capstone Project Rubric to make sure you are including all components of the capstone project and meet all expectations. Remember, this includes thorough documentation in a README file in a Github repository, as well as a web app or blog post."
   ]
  },
  {
   "cell_type": "code",
   "execution_count": null,
   "metadata": {},
   "outputs": [],
   "source": []
  }
 ],
 "metadata": {
  "kernelspec": {
   "display_name": "Python 3",
   "language": "python",
   "name": "python3"
  },
  "language_info": {
   "codemirror_mode": {
    "name": "ipython",
    "version": 3
   },
   "file_extension": ".py",
   "mimetype": "text/x-python",
   "name": "python",
   "nbconvert_exporter": "python",
   "pygments_lexer": "ipython3",
   "version": "3.6.3"
  }
 },
 "nbformat": 4,
 "nbformat_minor": 2
}
